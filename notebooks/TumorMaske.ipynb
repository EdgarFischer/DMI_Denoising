{
 "cells": [
  {
   "cell_type": "markdown",
   "id": "9611afe9",
   "metadata": {},
   "source": [
    "# Läsionsmaske erstellen"
   ]
  },
  {
   "cell_type": "code",
   "execution_count": null,
   "id": "ab467e31",
   "metadata": {},
   "outputs": [],
   "source": [
    "import os\n",
    "import sys\n",
    "import numpy as np\n",
    "import scipy.io as sio"
   ]
  },
  {
   "cell_type": "code",
   "execution_count": null,
   "id": "a23ccf56",
   "metadata": {},
   "outputs": [],
   "source": [
    "data = np.load('../datasets/Tumor_2/mask.npy')#np.load('MetabMaps/Tumor_1_denoised_Fabian/Glx_amp_Tumor_1_denoised_Fabian_Orig.npy')[...,-1]\n",
    "#data = data.swapaxes(0,2)\n",
    "\n",
    "mask = np.load('../datasets/Tumor_2/tumor_mask.npy')"
   ]
  },
  {
   "cell_type": "code",
   "execution_count": null,
   "id": "a7d0ca0c",
   "metadata": {},
   "outputs": [],
   "source": [
    "import matplotlib.pyplot as plt\n",
    "\n",
    "nz = 21\n",
    "fig, axes = plt.subplots(nz, 2, figsize=(10, 80))  # 21 Zeilen, 2 Spalten\n",
    "\n",
    "for z in range(nz):\n",
    "    # linke Spalte: Daten\n",
    "    ax1 = axes[z, 0]\n",
    "    ax1.imshow(mask[:, :, z], cmap=\"gray\", origin=\"lower\")\n",
    "    ax1.set_title(f\"Data z={z}\")\n",
    "    ax1.axis(\"off\")\n",
    "\n",
    "    # rechte Spalte: Maske\n",
    "    ax2 = axes[z, 1]\n",
    "    ax2.imshow(data[:, :, z], cmap=\"gray\", origin=\"lower\")\n",
    "    ax2.set_title(f\"Mask z={z}\")\n",
    "    ax2.axis(\"off\")\n",
    "\n",
    "plt.tight_layout()\n",
    "plt.show()\n",
    "\n"
   ]
  },
  {
   "cell_type": "markdown",
   "id": "9cd9b356",
   "metadata": {},
   "source": [
    "### Neue Datenstruktur nur mit Tumor Maske erstellen"
   ]
  },
  {
   "cell_type": "code",
   "execution_count": null,
   "id": "5ef83149",
   "metadata": {},
   "outputs": [],
   "source": [
    "# neuen array nu rmit lesion voxel erstellen\n",
    "\n",
    "import numpy as np\n",
    "import os\n",
    "\n",
    "data = np.load('../datasets/Tumor_2_normalized/data.npy')\n",
    "mask = np.load('../datasets/Tumor_2_normalized/tumor_mask.npy')\n",
    "\n",
    "# data: (X,Y,Z,t,T), mask: (X,Y,Z) mit 1 innerhalb der Läsion\n",
    "X, Y, Z, t, T = data.shape\n",
    "\n",
    "# Indizes aller Läsions-Voxel\n",
    "lesion_idx = np.argwhere(mask == 1)\n",
    "if lesion_idx.size == 0:\n",
    "    raise ValueError(\"Maske enthält keine Läsions-Voxel (==1).\")\n",
    "\n",
    "# Für jede räumliche Position einen zufälligen Läsions-Index ziehen (mit Zurücklegen)\n",
    "sel = np.random.randint(0, len(lesion_idx), size=(X, Y, Z))\n",
    "\n",
    "# Quellkoordinaten (je (X,Y,Z))\n",
    "src_x = lesion_idx[sel, 0]\n",
    "src_y = lesion_idx[sel, 1]\n",
    "src_z = lesion_idx[sel, 2]\n",
    "\n",
    "# Zusammenbauen: jedes Zielvoxel bekommt die (t,T)-Daten seines zufällig gewählten Läsionsvoxels\n",
    "lesion = data[src_x, src_y, src_z, :, :]   # Shape: (X, Y, Z, t, T)\n",
    "\n",
    "# Ordner vorbereiten\n",
    "outdir = '../datasets/Tumor_2_normalized_only_tumor_voxels'\n",
    "os.makedirs(outdir, exist_ok=True)\n",
    "\n",
    "# Speichern\n",
    "#np.save(os.path.join(outdir, 'data.npy'), lesion)\n",
    "\n",
    "lesion_ft = np.fft.fftshift(np.fft.fft(lesion, axis=3), axes=3)"
   ]
  }
 ],
 "metadata": {
  "kernelspec": {
   "display_name": "Python 3",
   "language": "python",
   "name": "python3"
  },
  "language_info": {
   "codemirror_mode": {
    "name": "ipython",
    "version": 3
   },
   "file_extension": ".py",
   "mimetype": "text/x-python",
   "name": "python",
   "nbconvert_exporter": "python",
   "pygments_lexer": "ipython3",
   "version": "3.11.13"
  }
 },
 "nbformat": 4,
 "nbformat_minor": 5
}
