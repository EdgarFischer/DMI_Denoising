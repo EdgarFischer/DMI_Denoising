{
 "cells": [
  {
   "cell_type": "markdown",
   "id": "600129ff",
   "metadata": {},
   "source": [
    "The sole purpose of this file is to convert the CombinedCSI.mat file from the pipeline to a separate data.npy and mask.npy files for easier usage. You only have to insert the correct data folder name below and run the notebook. A CombinedCSI.mat file in that folder is required"
   ]
  },
  {
   "cell_type": "code",
   "execution_count": null,
   "id": "2259ef91",
   "metadata": {},
   "outputs": [
    {
     "name": "stdout",
     "output_type": "stream",
     "text": [
      "Verarbeite P03_xy_tT_swapped/data.npy...\n",
      "P03_xy_tT_swapped: gespeichert.\n",
      "Verarbeite P04_xy_tT_swapped/data.npy...\n",
      "P04_xy_tT_swapped: gespeichert.\n",
      "Verarbeite P05_xy_tT_swapped/data.npy...\n",
      "P05_xy_tT_swapped: gespeichert.\n",
      "Verarbeite P06_xy_tT_swapped/data.npy...\n",
      "P06_xy_tT_swapped: gespeichert.\n",
      "Verarbeite P07_xy_tT_swapped/data.npy...\n",
      "P07_xy_tT_swapped: gespeichert.\n",
      "Verarbeite P08_xy_tT_swapped/data.npy...\n",
      "P08_xy_tT_swapped: gespeichert.\n"
     ]
    }
   ],
   "source": [
    "# import numpy as np\n",
    "# import os\n",
    "\n",
    "# # Liste der Ordner\n",
    "# folders = [\n",
    "#     \"P03_xy_tT_swapped\",\n",
    "#     \"P04_xy_tT_swapped\",\n",
    "#     \"P05_xy_tT_swapped\",\n",
    "#     \"P06_xy_tT_swapped\",\n",
    "#     \"P07_xy_tT_swapped\",\n",
    "#     \"P08_xy_tT_swapped\",\n",
    "# ]\n",
    "\n",
    "# # Basisverzeichnis anpassen, falls nötig\n",
    "# base_path = \"\"  # z. B. \"../datasets\" oder \"./\"\n",
    "\n",
    "# for folder in folders:\n",
    "#     path = os.path.join(base_path, folder, \"data.npy\")\n",
    "#     print(f\"Verarbeite {path}...\")\n",
    "    \n",
    "#     data = np.load(path)\n",
    "    \n",
    "#     # Sicherstellen, dass das Array die richtige Dimension hat\n",
    "#     if data.ndim != 5:\n",
    "#         raise ValueError(f\"{folder}: data.npy hat nicht 5 Dimensionen, sondern {data.ndim}\")\n",
    "    \n",
    "#     # Achsen vertauschen: (0,1,2,3,4) → (3,4,2,0,1)\n",
    "#     data_swapped = np.transpose(data, (3, 4, 2, 0, 1))\n",
    "    \n",
    "#     # Überschreiben\n",
    "#     np.save(path, data_swapped)\n",
    "\n",
    "#     print(f\"{folder}: gespeichert.\")\n"
   ]
  },
  {
   "cell_type": "code",
   "execution_count": 2,
   "id": "90cbba5b",
   "metadata": {},
   "outputs": [
    {
     "name": "stdout",
     "output_type": "stream",
     "text": [
      "P03_xy_tT_swapped: shape = (96, 8, 21, 22, 22)\n",
      "P04_xy_tT_swapped: shape = (96, 8, 21, 22, 22)\n",
      "P05_xy_tT_swapped: shape = (96, 8, 21, 22, 22)\n",
      "P06_xy_tT_swapped: shape = (96, 8, 21, 22, 22)\n",
      "P07_xy_tT_swapped: shape = (96, 8, 21, 22, 22)\n",
      "P08_xy_tT_swapped: shape = (96, 8, 21, 22, 22)\n"
     ]
    }
   ],
   "source": [
    "import numpy as np\n",
    "import os\n",
    "\n",
    "# Liste der Ordner\n",
    "folders = [\n",
    "    \"P03_xy_tT_swapped\",\n",
    "    \"P04_xy_tT_swapped\",\n",
    "    \"P05_xy_tT_swapped\",\n",
    "    \"P06_xy_tT_swapped\",\n",
    "    \"P07_xy_tT_swapped\",\n",
    "    \"P08_xy_tT_swapped\",\n",
    "]\n",
    "\n",
    "# Basisverzeichnis anpassen\n",
    "base_path = \"\"  # z. B. \"../datasets\" oder \"datasets\"\n",
    "\n",
    "for folder in folders:\n",
    "    path = os.path.join(base_path, folder, \"data.npy\")\n",
    "    data = np.load(path)\n",
    "    print(f\"{folder}: shape = {data.shape}\")\n"
   ]
  }
 ],
 "metadata": {
  "kernelspec": {
   "display_name": "Python 3",
   "language": "python",
   "name": "python3"
  },
  "language_info": {
   "codemirror_mode": {
    "name": "ipython",
    "version": 3
   },
   "file_extension": ".py",
   "mimetype": "text/x-python",
   "name": "python",
   "nbconvert_exporter": "python",
   "pygments_lexer": "ipython3",
   "version": "3.11.13"
  }
 },
 "nbformat": 4,
 "nbformat_minor": 5
}
